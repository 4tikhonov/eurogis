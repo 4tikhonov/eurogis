{
 "metadata": {
  "name": "",
  "signature": "sha256:c33cc3fc7061e7fe4fd26a7de9940ceb400b56186db3e94505d92f4bb4142e91"
 },
 "nbformat": 3,
 "nbformat_minor": 0,
 "worksheets": [
  {
   "cells": [
    {
     "cell_type": "code",
     "collapsed": false,
     "input": [
      "# Use case for NLGIS2 data analysis using data service and pandas library\n",
      "# (C) Vyacheslav Tykhonov vty@iisg.nl\n",
      "# International Institute of Social History \n",
      "# http://socialhistory.org\n",
      "\n",
      "%matplotlib inline\n",
      "import urllib2\n",
      "import simplejson\n",
      "import json\n",
      "import sys\n",
      "import pandas as pd\n",
      "import random\n",
      "import vincent\n",
      "from vincent import Axis, AxisProperties, PropertySet, ValueRef\n",
      "\n",
      "# Global settings\n",
      "apiurl = \"http://node-128.dev.socialhistoryservices.org/api/data\"\n",
      "amscodecolumn = 'amsterdam_code'\n",
      "yearcolumn = 'year'\n",
      "\n",
      "# Default values\n",
      "varcode = \"TXCU\"\n",
      "varyear = \"1997\"\n",
      "colors = ['red', 'green', 'orange', 'brown', 'purple', 'blue', 'cyan']\n",
      "\n",
      "def load_api_data(apiurl, code, year):\n",
      "    amscode = str(code)\n",
      "    jsondataurl = apiurl + \"?code=\" + str(code)\n",
      "    \n",
      "    req = urllib2.Request(jsondataurl)\n",
      "    opener = urllib2.build_opener()\n",
      "    f = opener.open(req)\n",
      "    dataframe = simplejson.load(f)\n",
      "    return dataframe\n",
      "\n",
      "def data2frame(dataframe):\n",
      "    data = dataframe['data']\n",
      "    years = {}\n",
      "    debug = 0\n",
      "    datavalues = {}\n",
      "        \n",
      "    for item in data:\n",
      "        amscode = item[amscodecolumn]\n",
      "        year = item[yearcolumn]\n",
      "        datavalues[year] = item\n",
      "        if debug:\n",
      "            print str(amscode) + ' ' + str(year)\n",
      "            print item\n",
      "    \n",
      "    for year in datavalues:        \n",
      "        values = datavalues[year]\n",
      "        for name in values:\n",
      "            if debug:\n",
      "                print name + ' ' + str(values[name])\n",
      "    return datavalues\n",
      "    \n",
      "data = load_api_data(apiurl, varcode, varyear)\n",
      "# 'indicator': 'TK', 'code': 'TXCU', 'naam': 'ADORP', 'amsterdam_code': '10996', 'value': 89.0, 'year': 1937, 'id': 1, 'cbsnr': '1'\n",
      "# Create DataFrame object pf and load data \n",
      "df = pd.DataFrame(data['data'])\n",
      "\n",
      "# Exploring dataset to see columns and data\n",
      "print df.head()\n",
      "newframe = df[['year', 'amsterdam_code', 'naam', 'value']]"
     ],
     "language": "python",
     "metadata": {},
     "outputs": [
      {
       "output_type": "stream",
       "stream": "stdout",
       "text": [
        "  amsterdam_code cbsnr  code   id indicator        naam  value  year\n",
        "0          10996     1  TXCU    1        TK       ADORP     89  1937\n",
        "1          10999     2  TXCU  209        TK      ADUARD     49  1937\n",
        "2          10886     3  TXCU  426        TK  APPINGEDAM    315  1937\n",
        "3          10539     4  TXCU  660        TK       BAFLO    260  1937\n",
        "4          10425     5  TXCU  877        TK       BEDUM    263  1937\n",
        "\n",
        "[5 rows x 8 columns]\n"
       ]
      }
     ],
     "prompt_number": 30
    },
    {
     "cell_type": "markdown",
     "metadata": {},
     "source": [
      "Now let's calculate total values for each city and show first 20 locations"
     ]
    },
    {
     "cell_type": "code",
     "collapsed": false,
     "input": [
      "newframe = df[['amsterdam_code', 'value']][:20]\n",
      "print newframe"
     ],
     "language": "python",
     "metadata": {},
     "outputs": [
      {
       "output_type": "stream",
       "stream": "stdout",
       "text": [
        "   amsterdam_code  value\n",
        "0           10996     89\n",
        "1           10999     49\n",
        "2           10886    315\n",
        "3           10539    260\n",
        "4           10425    263\n",
        "5           11043     57\n",
        "6           11294    420\n",
        "7           10891    247\n",
        "8           10976    288\n",
        "9           10904    128\n",
        "10          10136     42\n",
        "11          10212     54\n",
        "12          10426   2331\n",
        "13          11080    389\n",
        "14          10244     73\n",
        "15          11058    327\n",
        "16          10372    189\n",
        "17          10628     78\n",
        "18          10604    375\n",
        "19          11050    195\n",
        "\n",
        "[20 rows x 2 columns]\n"
       ]
      }
     ],
     "prompt_number": 31
    },
    {
     "cell_type": "markdown",
     "metadata": {},
     "source": [
      "We need some basic color maps to calculate from out data"
     ]
    },
    {
     "cell_type": "code",
     "collapsed": false,
     "input": [
      "def colormapslimits(dataframe):\n",
      "    scale = []\n",
      "    frame1 = []\n",
      "    frame2 = []\n",
      "    avg = values.median()\n",
      "    for value in dataframe:\n",
      "        if value <= avg:\n",
      "            frame1.append(value)\n",
      "        else:\n",
      "            frame2.append(value)\n",
      "    avg1 = pd.DataFrame(frame1).median()\n",
      "    avg2 = pd.DataFrame(frame2).median()\n",
      "            \n",
      "    return (values.min(), int(avg1), int(avg), int(avg2), values.max())"
     ],
     "language": "python",
     "metadata": {},
     "outputs": [],
     "prompt_number": 35
    },
    {
     "cell_type": "code",
     "collapsed": false,
     "input": [
      "values = newframe['value'][:20]\n",
      "dfnames = df['naam'][:20]\n",
      "codes = [df['amsterdam_code'][:20]]\n",
      "list_data = []\n",
      "names = []\n",
      "\n",
      "for value in values:\n",
      "    list_data.append(value)\n",
      "for name in dfnames:\n",
      "    names.append(name)\n",
      "\n",
      "# New dataframe to make chart\n",
      "thisDF = pd.DataFrame(list_data, names)\n",
      "\n",
      "colormap = colormapslimits(values)\n",
      "print names\n",
      "print list_data\n",
      "print 'Limits to build color map: ' + str(colormap)\n",
      "\n",
      "bar = vincent.Bar(thisDF)\n",
      "bar.axes[0].properties = AxisProperties (\n",
      "    labels=PropertySet(\n",
      "    angle=ValueRef(value=45),\n",
      "    align=ValueRef(value='left')\n",
      "    )\n",
      "   )\n",
      "vincent.core.initialize_notebook()\n",
      "\n",
      "bar.axis_titles(x='', y='Value')\n",
      "bar.display()"
     ],
     "language": "python",
     "metadata": {},
     "outputs": [
      {
       "output_type": "stream",
       "stream": "stdout",
       "text": [
        "['ADORP', 'ADUARD', 'APPINGEDAM', 'BAFLO', 'BEDUM', 'BEERTA', 'BIERUM', 'TEN BOER', 'DELFZIJL', 'EENRUM', 'EZINGE', 'FINSTERWOLDE', 'GRONINGEN', 'GROOTEGAST', 'GRIJPSKERK', 'HAREN GR', 'KANTENS', 'KLOOSTERBUREN', 'LEEK', 'LEENS']\n",
        "[89.0, 49.0, 315.0, 260.0, 263.0, 57.0, 420.0, 247.0, 288.0, 128.0, 42.0, 54.0, 2331.0, 389.0, 73.0, 327.0, 189.0, 78.0, 375.0, 195.0]\n",
        "Limits to build color map: (42.0, 75, 221, 321, 2331.0)\n"
       ]
      },
      {
       "html": [
        "\n",
        "           <script>\n",
        "               \n",
        "                function vct_load_lib(url, callback){\n",
        "                      if(typeof d3 !== 'undefined' &&\n",
        "                         url === 'http://d3js.org/d3.v3.min.js'){\n",
        "                        callback()\n",
        "                      }\n",
        "                      var s = document.createElement('script');\n",
        "                      s.src = url;\n",
        "                      s.async = true;\n",
        "                      s.onreadystatechange = s.onload = callback;\n",
        "                      s.onerror = function(){\n",
        "                        console.warn(\"failed to load library \" + url);\n",
        "                        };\n",
        "                      document.getElementsByTagName(\"head\")[0].appendChild(s);\n",
        "                };\n",
        "                var vincent_event = new CustomEvent(\n",
        "                  \"vincent_libs_loaded\",\n",
        "                  {bubbles: true, cancelable: true}\n",
        "                );\n",
        "                \n",
        "               function load_all_libs(){\n",
        "                  console.log('Loading Vincent libs...')\n",
        "                  vct_load_lib('http://d3js.org/d3.v3.min.js', function(){\n",
        "                  vct_load_lib('http://d3js.org/d3.geo.projection.v0.min.js', function(){\n",
        "                  vct_load_lib('http://wrobstory.github.io/d3-cloud/d3.layout.cloud.js', function(){\n",
        "                  vct_load_lib('http://wrobstory.github.io/vega/vega.v1.3.3.js', function(){\n",
        "                  window.dispatchEvent(vincent_event);\n",
        "                  });\n",
        "                  });\n",
        "                  });\n",
        "                  });\n",
        "               };\n",
        "               if(typeof define === \"function\" && define.amd){\n",
        "                    if (window['d3'] === undefined ||\n",
        "                        window['topojson'] === undefined){\n",
        "                        require.config(\n",
        "                            {paths: {\n",
        "                              d3: 'http://d3js.org/d3.v3.min',\n",
        "                              topojson: 'http://d3js.org/topojson.v1.min'\n",
        "                              }\n",
        "                            }\n",
        "                          );\n",
        "                        require([\"d3\"], function(d3){\n",
        "                            console.log('Loading Vincent from require.js...')\n",
        "                            window.d3 = d3;\n",
        "                            require([\"topojson\"], function(topojson){\n",
        "                                window.topojson = topojson;\n",
        "                                load_all_libs();\n",
        "                            });\n",
        "                        });\n",
        "                    } else {\n",
        "                        load_all_libs();\n",
        "                    };\n",
        "               }else{\n",
        "                    console.log('Require.js not found, loading manually...')\n",
        "                    load_all_libs();\n",
        "               };\n",
        "\n",
        "           </script>"
       ],
       "metadata": {},
       "output_type": "display_data",
       "text": [
        "<IPython.core.display.HTML at 0xaf6e6fac>"
       ]
      },
      {
       "html": [
        "<div id=\"vis958394e201ad4a0fab6b0247bf75acd6\"></div>\n",
        "<script>\n",
        "   ( function() {\n",
        "     var _do_plot = function() {\n",
        "       if (typeof vg === 'undefined') {\n",
        "         window.addEventListener('vincent_libs_loaded', _do_plot)\n",
        "         return;\n",
        "       }\n",
        "       vg.parse.spec({\"axes\": [{\"properties\": {\"labels\": {\"align\": {\"value\": \"left\"}, \"angle\": {\"value\": 45}}}, \"scale\": \"x\", \"title\": \"\", \"type\": \"x\"}, {\"scale\": \"y\", \"title\": \"Value\", \"type\": \"y\"}], \"data\": [{\"name\": \"table\", \"values\": [{\"col\": 0, \"idx\": \"ADORP\", \"val\": 89.0}, {\"col\": 0, \"idx\": \"ADUARD\", \"val\": 49.0}, {\"col\": 0, \"idx\": \"APPINGEDAM\", \"val\": 315.0}, {\"col\": 0, \"idx\": \"BAFLO\", \"val\": 260.0}, {\"col\": 0, \"idx\": \"BEDUM\", \"val\": 263.0}, {\"col\": 0, \"idx\": \"BEERTA\", \"val\": 57.0}, {\"col\": 0, \"idx\": \"BIERUM\", \"val\": 420.0}, {\"col\": 0, \"idx\": \"TEN BOER\", \"val\": 247.0}, {\"col\": 0, \"idx\": \"DELFZIJL\", \"val\": 288.0}, {\"col\": 0, \"idx\": \"EENRUM\", \"val\": 128.0}, {\"col\": 0, \"idx\": \"EZINGE\", \"val\": 42.0}, {\"col\": 0, \"idx\": \"FINSTERWOLDE\", \"val\": 54.0}, {\"col\": 0, \"idx\": \"GRONINGEN\", \"val\": 2331.0}, {\"col\": 0, \"idx\": \"GROOTEGAST\", \"val\": 389.0}, {\"col\": 0, \"idx\": \"GRIJPSKERK\", \"val\": 73.0}, {\"col\": 0, \"idx\": \"HAREN GR\", \"val\": 327.0}, {\"col\": 0, \"idx\": \"KANTENS\", \"val\": 189.0}, {\"col\": 0, \"idx\": \"KLOOSTERBUREN\", \"val\": 78.0}, {\"col\": 0, \"idx\": \"LEEK\", \"val\": 375.0}, {\"col\": 0, \"idx\": \"LEENS\", \"val\": 195.0}]}, {\"name\": \"stats\", \"source\": \"table\", \"transform\": [{\"keys\": [\"data.idx\"], \"type\": \"facet\"}, {\"type\": \"stats\", \"value\": \"data.val\"}]}], \"height\": 500, \"legends\": [], \"marks\": [{\"from\": {\"data\": \"table\", \"transform\": [{\"keys\": [\"data.col\"], \"type\": \"facet\"}, {\"height\": \"data.val\", \"point\": \"data.idx\", \"type\": \"stack\"}]}, \"marks\": [{\"properties\": {\"enter\": {\"fill\": {\"field\": \"data.col\", \"scale\": \"color\"}, \"width\": {\"band\": true, \"offset\": -1, \"scale\": \"x\"}, \"x\": {\"field\": \"data.idx\", \"scale\": \"x\"}, \"y\": {\"field\": \"y\", \"scale\": \"y\"}, \"y2\": {\"field\": \"y2\", \"scale\": \"y\"}}}, \"type\": \"rect\"}], \"type\": \"group\"}], \"padding\": \"auto\", \"scales\": [{\"domain\": {\"data\": \"table\", \"field\": \"data.idx\"}, \"name\": \"x\", \"range\": \"width\", \"type\": \"ordinal\", \"zero\": false}, {\"domain\": {\"data\": \"stats\", \"field\": \"sum\"}, \"name\": \"y\", \"nice\": true, \"range\": \"height\"}, {\"domain\": {\"data\": \"table\", \"field\": \"data.col\"}, \"name\": \"color\", \"range\": \"category20\", \"type\": \"ordinal\"}], \"width\": 960}, function(chart) {\n",
        "         chart({el: \"#vis958394e201ad4a0fab6b0247bf75acd6\"}).update();\n",
        "       });\n",
        "     };\n",
        "     _do_plot();\n",
        "   })();\n",
        "</script>\n",
        "<style>.vega canvas {width: 100%;}</style>\n",
        "        "
       ],
       "metadata": {},
       "output_type": "display_data",
       "text": [
        "<IPython.core.display.HTML at 0xaf6c9e6c>"
       ]
      }
     ],
     "prompt_number": 40
    },
    {
     "cell_type": "markdown",
     "metadata": {},
     "source": [
      "The same data on Pie chart"
     ]
    },
    {
     "cell_type": "code",
     "collapsed": false,
     "input": [
      "pie = vincent.Pie(thisDF)\n",
      "pie.colors(brew='Set3')\n",
      "pie.legend('Locations')"
     ],
     "language": "python",
     "metadata": {},
     "outputs": [
      {
       "html": [
        "<div id=\"visb52d0be176df472993120c72eb6c5705\"></div>\n",
        "<script>\n",
        "   ( function() {\n",
        "     var _do_plot = function() {\n",
        "       if (typeof vg === 'undefined') {\n",
        "         window.addEventListener('vincent_libs_loaded', _do_plot)\n",
        "         return;\n",
        "       }\n",
        "       vg.parse.spec({\"axes\": [], \"data\": [{\"name\": \"table\", \"values\": [{\"col\": 0, \"idx\": \"ADORP\", \"val\": 89.0}, {\"col\": 0, \"idx\": \"ADUARD\", \"val\": 49.0}, {\"col\": 0, \"idx\": \"APPINGEDAM\", \"val\": 315.0}, {\"col\": 0, \"idx\": \"BAFLO\", \"val\": 260.0}, {\"col\": 0, \"idx\": \"BEDUM\", \"val\": 263.0}, {\"col\": 0, \"idx\": \"BEERTA\", \"val\": 57.0}, {\"col\": 0, \"idx\": \"BIERUM\", \"val\": 420.0}, {\"col\": 0, \"idx\": \"TEN BOER\", \"val\": 247.0}, {\"col\": 0, \"idx\": \"DELFZIJL\", \"val\": 288.0}, {\"col\": 0, \"idx\": \"EENRUM\", \"val\": 128.0}, {\"col\": 0, \"idx\": \"EZINGE\", \"val\": 42.0}, {\"col\": 0, \"idx\": \"FINSTERWOLDE\", \"val\": 54.0}, {\"col\": 0, \"idx\": \"GRONINGEN\", \"val\": 2331.0}, {\"col\": 0, \"idx\": \"GROOTEGAST\", \"val\": 389.0}, {\"col\": 0, \"idx\": \"GRIJPSKERK\", \"val\": 73.0}, {\"col\": 0, \"idx\": \"HAREN GR\", \"val\": 327.0}, {\"col\": 0, \"idx\": \"KANTENS\", \"val\": 189.0}, {\"col\": 0, \"idx\": \"KLOOSTERBUREN\", \"val\": 78.0}, {\"col\": 0, \"idx\": \"LEEK\", \"val\": 375.0}, {\"col\": 0, \"idx\": \"LEENS\", \"val\": 195.0}]}], \"height\": 500, \"legends\": [{\"fill\": \"color\", \"offset\": 0, \"properties\": {}, \"title\": \"Locations\"}], \"marks\": [{\"from\": {\"data\": \"table\", \"transform\": [{\"type\": \"pie\", \"value\": \"data.val\"}]}, \"properties\": {\"enter\": {\"endAngle\": {\"field\": \"endAngle\"}, \"fill\": {\"field\": \"data.idx\", \"scale\": \"color\"}, \"innerRadius\": {\"value\": 0}, \"outerRadius\": {\"value\": 250}, \"startAngle\": {\"field\": \"startAngle\"}, \"stroke\": {\"value\": \"white\"}, \"x\": {\"group\": \"width\", \"mult\": 0.5}, \"y\": {\"group\": \"height\", \"mult\": 0.5}}}, \"type\": \"arc\"}], \"padding\": \"auto\", \"scales\": [{\"domain\": {\"data\": \"table\", \"field\": \"data.idx\"}, \"name\": \"color\", \"range\": [\"#8dd3c7\", \"#ffffb3\", \"#bebada\", \"#fb8072\", \"#80b1d3\", \"#fdb462\", \"#b3de69\", \"#fccde5\", \"#d9d9d9\", \"#bc80bd\", \"#ccebc5\", \"#ffed6f\"], \"type\": \"ordinal\"}], \"width\": 960}, function(chart) {\n",
        "         chart({el: \"#visb52d0be176df472993120c72eb6c5705\"}).update();\n",
        "       });\n",
        "     };\n",
        "     _do_plot();\n",
        "   })();\n",
        "</script>\n",
        "<style>.vega canvas {width: 100%;}</style>\n",
        "        "
       ],
       "metadata": {},
       "output_type": "pyout",
       "prompt_number": 34,
       "text": [
        "<vincent.charts.Pie at 0xaf6e61cc>"
       ]
      }
     ],
     "prompt_number": 34
    },
    {
     "cell_type": "markdown",
     "metadata": {},
     "source": [
      "To do: merge data with map coordinates"
     ]
    }
   ],
   "metadata": {}
  }
 ]
}