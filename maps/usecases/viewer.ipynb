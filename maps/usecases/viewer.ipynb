{
 "metadata": {
  "name": "",
  "signature": "sha256:2ceb80c1af797cd5b263bff1cb2a58f94506fc4e71ebbac2c51b5411d056a0d4"
 },
 "nbformat": 3,
 "nbformat_minor": 0,
 "worksheets": [
  {
   "cells": [
    {
     "cell_type": "code",
     "collapsed": true,
     "input": [
      "#!/usr/bin/python\n",
      "\n",
      "%matplotlib inline\n",
      "import urllib2\n",
      "import simplejson\n",
      "import json\n",
      "import sys\n",
      "from shapely.geometry import shape, Polygon, MultiPolygon\n",
      "import numpy as np\n",
      "import matplotlib.pyplot as plt\n",
      "import matplotlib\n",
      "from pylab import *\n",
      "\n",
      "# Example of polygon\n",
      "co1 = {\"type\": \"Polygon\", \"coordinates\": [\n",
      "    [(-102.05, 41.0),\n",
      "     (-102.05, 37.0),\n",
      "     (-109.05, 37.0),\n",
      "     (-109.05, 41.0)]]}\n",
      "\n",
      "varyear = None\n",
      "varcode = None\n",
      "if sys.argv[1]:\n",
      "    varcode = sys.argv[1]\n",
      "if len(sys.argv) > 2:\n",
      "    varyear = sys.argv[2]\n",
      "    "
     ],
     "language": "python",
     "metadata": {},
     "outputs": [],
     "prompt_number": 13
    },
    {
     "cell_type": "code",
     "collapsed": true,
     "input": [
      "# Default\n",
      "debug = 0\n",
      "varcode = 10426\n",
      "varyear = 1997\n",
      "varname = \"Utrecht\"\n",
      "apiurl = \"http://node-128.dev.socialhistoryservices.org/api/maps\"\n",
      "\n",
      "def getmap(apiurl, code, year, cityname):\n",
      "    amscode = str(code)\n",
      "    if cityname:\n",
      "        amscode = ''\n",
      "    jsondataurl = apiurl + \"?year=\" + str(year) + \"&format=geojson\"\n",
      "    \n",
      "    req = urllib2.Request(jsondataurl)\n",
      "    opener = urllib2.build_opener()\n",
      "    f = opener.open(req)\n",
      "    datapolygons = simplejson.load(f)\n",
      "\n",
      "    def coordinates(polygons, amscode, cityname):\n",
      "        for key in polygons:\n",
      "            if key == 'features':\n",
      "                data = polygons[key]\n",
      "                for key in data:\n",
      "                    response = json.dumps(key)\n",
      "                    dict = json.loads(response)\n",
      "                    for key in dict:                    \n",
      "                        if key == 'properties':\n",
      "                            maincode = str(dict[key]['amsterdamcode'])\n",
      "                            mainname = dict[key]['name']\n",
      "                            if maincode == amscode:\n",
      "                                 co = dict['geometry']['coordinates']\n",
      "                            if mainname.encode('utf-8') == cityname:\n",
      "                                 co = dict['geometry']['coordinates']\n",
      "                            \n",
      "        return co\n",
      "\n",
      "    coords = coordinates(datapolygons, amscode, cityname)\n",
      "    x = [i for i,j in coords[0][0]]\n",
      "    y = [j for i,j in coords[0][0]]\n",
      "\n",
      "    return (x,y)\n",
      "\n",
      "colors = ['red', 'green', 'orange', 'brown', 'purple']\n",
      "(x,y) = getmap(apiurl, varcode, varyear, varname)\n",
      "fig, ax = subplots(figsize=(12,12))\n",
      "ax = fig.gca() \n",
      "ax.plot(x,y)\n",
      "ax.axis('scaled')\n",
      "fig.savefig('myplot.png')\n",
      "plt.show()\n",
      "print \"City bounding polygons of \" + str(varname) + \" in \" + str(varyear)\n"
     ],
     "language": "python",
     "metadata": {},
     "outputs": [
      {
       "metadata": {},
       "output_type": "display_data",
       "png": "[encoded data removed]",
       "text": [
        "<matplotlib.figure.Figure at 0xb11fe18c>"
       ]
      },
      {
       "output_type": "stream",
       "stream": "stdout",
       "text": [
        "City bounding polygons of Utrecht in 1997\n"
       ]
      }
     ],
     "prompt_number": 23
    },
    {
     "cell_type": "code",
     "collapsed": false,
     "input": [],
     "language": "python",
     "metadata": {},
     "outputs": [],
     "prompt_number": 14
    },
    {
     "cell_type": "code",
     "collapsed": false,
     "input": [],
     "language": "python",
     "metadata": {},
     "outputs": [],
     "prompt_number": 14
    },
    {
     "cell_type": "code",
     "collapsed": true,
     "input": [],
     "language": "python",
     "metadata": {},
     "outputs": [],
     "prompt_number": 14
    },
    {
     "cell_type": "code",
     "collapsed": true,
     "input": [],
     "language": "python",
     "metadata": {},
     "outputs": [],
     "prompt_number": 14
    }
   ],
   "metadata": {}
  }
 ]
}